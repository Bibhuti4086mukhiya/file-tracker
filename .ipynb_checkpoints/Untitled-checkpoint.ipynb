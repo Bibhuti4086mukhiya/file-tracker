{
 "cells": [
  {
   "cell_type": "code",
   "execution_count": 1,
   "id": "6f3a02d1",
   "metadata": {},
   "outputs": [],
   "source": [
    "import os "
   ]
  },
  {
   "cell_type": "code",
   "execution_count": 2,
   "id": "2f7bce34",
   "metadata": {},
   "outputs": [],
   "source": [
    "# def match_file(file_name):\n",
    "#     path = r'C:\\Users\\Dell\\Desktop\\local_version'\n",
    "#     for root, dirs, files in os.walk(path):\n",
    "#            files"
   ]
  },
  {
   "cell_type": "code",
   "execution_count": 3,
   "id": "0535bdd5",
   "metadata": {
    "scrolled": true
   },
   "outputs": [
    {
     "ename": "NameError",
     "evalue": "name 'match_file' is not defined",
     "output_type": "error",
     "traceback": [
      "\u001b[1;31m---------------------------------------------------------------------------\u001b[0m",
      "\u001b[1;31mNameError\u001b[0m                                 Traceback (most recent call last)",
      "Cell \u001b[1;32mIn[3], line 14\u001b[0m\n\u001b[0;32m     12\u001b[0m         first_name\u001b[38;5;241m=\u001b[39mfile_detail[\u001b[38;5;241m0\u001b[39m]\u001b[38;5;241m+\u001b[39m\u001b[38;5;124m'\u001b[39m\u001b[38;5;124m_01\u001b[39m\u001b[38;5;124m'\u001b[39m\n\u001b[0;32m     13\u001b[0m \u001b[38;5;28minput\u001b[39m\u001b[38;5;241m=\u001b[39m\u001b[38;5;124m'\u001b[39m\u001b[38;5;124mC://Users//Dell//Desktop//projects//hi_01\u001b[39m\u001b[38;5;124m'\u001b[39m\n\u001b[1;32m---> 14\u001b[0m \u001b[43mfile_name\u001b[49m\u001b[43m(\u001b[49m\u001b[38;5;28;43minput\u001b[39;49m\u001b[43m)\u001b[49m\n",
      "Cell \u001b[1;32mIn[3], line 3\u001b[0m, in \u001b[0;36mfile_name\u001b[1;34m(path)\u001b[0m\n\u001b[0;32m      1\u001b[0m \u001b[38;5;28;01mdef\u001b[39;00m \u001b[38;5;21mfile_name\u001b[39m(path):\n\u001b[0;32m      2\u001b[0m     file_detail\u001b[38;5;241m=\u001b[39mos\u001b[38;5;241m.\u001b[39mpath\u001b[38;5;241m.\u001b[39mbasename(\u001b[38;5;124mf\u001b[39m\u001b[38;5;124m'\u001b[39m\u001b[38;5;132;01m{\u001b[39;00mpath\u001b[38;5;132;01m}\u001b[39;00m\u001b[38;5;124m'\u001b[39m)\u001b[38;5;241m.\u001b[39msplit(\u001b[38;5;124m'\u001b[39m\u001b[38;5;124m_\u001b[39m\u001b[38;5;124m'\u001b[39m)\n\u001b[1;32m----> 3\u001b[0m     \u001b[43mmatch_file\u001b[49m(file_name)\n\u001b[0;32m      4\u001b[0m     \u001b[38;5;28;01mtry\u001b[39;00m:\n\u001b[0;32m      5\u001b[0m         \u001b[38;5;28;01mif\u001b[39;00m \u001b[38;5;28mtype\u001b[39m(\u001b[38;5;28mint\u001b[39m(file_detail[\u001b[38;5;241m1\u001b[39m]))\u001b[38;5;241m==\u001b[39m\u001b[38;5;28mint\u001b[39m:\n",
      "\u001b[1;31mNameError\u001b[0m: name 'match_file' is not defined"
     ]
    }
   ],
   "source": [
    "def file_name(path):\n",
    "    file_detail=os.path.basename(f'{path}').split('_')\n",
    "    os.chdir(r'C:\\Users\\Dell\\Desktop\\local_version')\n",
    "    try:\n",
    "        if type(int(file_detail[1]))==int:\n",
    "            \n",
    "            incr=int(file_detail[1])+1\n",
    "            num='{0:02}'.format(incr)\n",
    "            file_new_name=file_detail[0]+f'_{num}'\n",
    "    except:\n",
    "\n",
    "        first_name=file_detail[0]+'_01'\n",
    "input='C://Users//Dell//Desktop//projects//hi_01'\n",
    "file_name(input)"
   ]
  },
  {
   "cell_type": "code",
   "execution_count": 122,
   "id": "fdcd1601",
   "metadata": {},
   "outputs": [],
   "source": [
    "copy_name='automate-create-project'"
   ]
  },
  {
   "cell_type": "code",
   "execution_count": 119,
   "id": "266b21d2",
   "metadata": {},
   "outputs": [
    {
     "name": "stdout",
     "output_type": "stream",
     "text": [
      "['0.py', '1.py', '2.py', '3.py', '4.py', '5.py', '6.py', '7.py', '8.py', '9.py']\n"
     ]
    }
   ],
   "source": [
    "# get access to all its sub-directories and files\n",
    "\n"
   ]
  },
  {
   "cell_type": "code",
   "execution_count": 118,
   "id": "06027859",
   "metadata": {},
   "outputs": [],
   "source": [
    "for i in range(10):\n",
    "    try:\n",
    "        os.chdir(r'C:\\Users\\Dell\\Desktop\\local_version')\n",
    "        file=open(f'{i}.py','x')\n",
    "        file.close()\n",
    "    except:\n",
    "        print('The file is already exits!')"
   ]
  },
  {
   "cell_type": "code",
   "execution_count": 115,
   "id": "0116e60e",
   "metadata": {},
   "outputs": [
    {
     "data": {
      "text/plain": [
       "'C:\\\\Users\\\\Dell\\\\Desktop\\\\storage\\\\timeline\\\\2023\\\\august\\\\version_control'"
      ]
     },
     "execution_count": 115,
     "metadata": {},
     "output_type": "execute_result"
    }
   ],
   "source": [
    "os.getcwd()"
   ]
  }
 ],
 "metadata": {
  "kernelspec": {
   "display_name": "Python 3 (ipykernel)",
   "language": "python",
   "name": "python3"
  },
  "language_info": {
   "codemirror_mode": {
    "name": "ipython",
    "version": 3
   },
   "file_extension": ".py",
   "mimetype": "text/x-python",
   "name": "python",
   "nbconvert_exporter": "python",
   "pygments_lexer": "ipython3",
   "version": "3.9.12"
  }
 },
 "nbformat": 4,
 "nbformat_minor": 5
}
