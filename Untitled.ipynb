{
 "cells": [
  {
   "cell_type": "code",
   "execution_count": 1,
   "id": "6f3a02d1",
   "metadata": {},
   "outputs": [],
   "source": [
    "import os "
   ]
  },
  {
   "cell_type": "code",
   "execution_count": 3,
   "id": "4334dd9c",
   "metadata": {},
   "outputs": [],
   "source": [
    "def paste_content(outputFile, content):\n",
    "    print(outputFile)\n",
    "    with open(f'{outputFile}.py','a') as f:\n",
    "        f.write(content)\n",
    "        f.close()"
   ]
  },
  {
   "cell_type": "code",
   "execution_count": 12,
   "id": "57e66058",
   "metadata": {},
   "outputs": [],
   "source": [
    "def read_file(filename):\n",
    "    with open(filename, 'r') as file:\n",
    "        code = file.read()\n",
    "        print(code)\n",
    "    return code"
   ]
  },
  {
   "cell_type": "code",
   "execution_count": 14,
   "id": "0535bdd5",
   "metadata": {
    "scrolled": true
   },
   "outputs": [
    {
     "name": "stdout",
     "output_type": "stream",
     "text": [
      "The file is already exits!\n"
     ]
    }
   ],
   "source": [
    "def file_name(path):\n",
    "    file_detail=os.path.basename(f'{path}').split('.')\n",
    "    os.chdir(r'C:/Users/Dell/Desktop/local_version')\n",
    "    try:\n",
    "        if type(int(file_detail[1]))==int:\n",
    "            incr=int(file_detail[1])+1\n",
    "            num='{0:02}'.format(incr)\n",
    "            file_new_name=file_detail[0]+f'_{num}'\n",
    "            # create_file=file(file_new_name)\n",
    "            read_content=read_file(path)\n",
    "            print(os.getcwd(),read_content)\n",
    "            # paste_content(create_file,read_content)\n",
    "            \n",
    "    except:\n",
    "        first_name=file_detail[0]+'_01'\n",
    "        read_content=read_file(path)\n",
    "        paste_content(first_name,read_content)\n",
    "input='C:/Users/Dell/Desktop/storage/timeline/2023/august/extract_discord/discord_01.py'\n",
    "file_name(input)"
   ]
  },
  {
   "cell_type": "code",
   "execution_count": 15,
   "id": "7f7e4a07",
   "metadata": {},
   "outputs": [],
   "source": [
    "p='extract_discord'"
   ]
  },
  {
   "cell_type": "code",
   "execution_count": 18,
   "id": "529e8161",
   "metadata": {},
   "outputs": [
    {
     "data": {
      "text/plain": [
       "'extract_disco'"
      ]
     },
     "execution_count": 18,
     "metadata": {},
     "output_type": "execute_result"
    }
   ],
   "source": [
    "p[:-2]"
   ]
  },
  {
   "cell_type": "code",
   "execution_count": 115,
   "id": "0116e60e",
   "metadata": {},
   "outputs": [
    {
     "data": {
      "text/plain": [
       "'C:\\\\Users\\\\Dell\\\\Desktop\\\\storage\\\\timeline\\\\2023\\\\august\\\\version_control'"
      ]
     },
     "execution_count": 115,
     "metadata": {},
     "output_type": "execute_result"
    }
   ],
   "source": [
    "os.getcwd()"
   ]
  }
 ],
 "metadata": {
  "kernelspec": {
   "display_name": "Python 3 (ipykernel)",
   "language": "python",
   "name": "python3"
  },
  "language_info": {
   "codemirror_mode": {
    "name": "ipython",
    "version": 3
   },
   "file_extension": ".py",
   "mimetype": "text/x-python",
   "name": "python",
   "nbconvert_exporter": "python",
   "pygments_lexer": "ipython3",
   "version": "3.9.12"
  }
 },
 "nbformat": 4,
 "nbformat_minor": 5
}
